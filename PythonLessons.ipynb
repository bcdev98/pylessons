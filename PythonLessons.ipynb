{
 "cells": [
  {
   "cell_type": "markdown",
   "metadata": {},
   "source": [
    "## Anaconda Installation on Mac\n",
    "https://www.anaconda.com/download/#macos\n",
    "\n",
    "### Anaconda Navigator\n",
    "https://docs.anaconda.com/anaconda/navigator/\n",
    "\n",
    "### Jupyter Notebook Helps\n",
    "https://www.dataquest.io/blog/jupyter-notebook-tips-tricks-shortcuts/"
   ]
  },
  {
   "cell_type": "markdown",
   "metadata": {},
   "source": [
    "## Introduction to Data Structures Using Python\n",
    "http://www.samyzaf.com/braude/DSAL/"
   ]
  },
  {
   "cell_type": "markdown",
   "metadata": {},
   "source": [
    "## Lesson 1\n",
    "### Abstract Data Type (ADT)\n",
    "- ADT is a programmer-defined data type that specifies a set of data values and a collection of well-defined operations."
   ]
  },
  {
   "cell_type": "code",
   "execution_count": 1,
   "metadata": {
    "collapsed": true
   },
   "outputs": [],
   "source": [
    "# String Data Type (Python pre-defined data type)\n",
    "s = \"Hello World\""
   ]
  },
  {
   "cell_type": "code",
   "execution_count": 6,
   "metadata": {},
   "outputs": [
    {
     "data": {
      "text/plain": [
       "1"
      ]
     },
     "execution_count": 6,
     "metadata": {},
     "output_type": "execute_result"
    }
   ],
   "source": [
    "s.count(\"H\")"
   ]
  },
  {
   "cell_type": "code",
   "execution_count": 3,
   "metadata": {},
   "outputs": [
    {
     "data": {
      "text/plain": [
       "'hello world'"
      ]
     },
     "execution_count": 3,
     "metadata": {},
     "output_type": "execute_result"
    }
   ],
   "source": [
    "s.lower()"
   ]
  },
  {
   "cell_type": "code",
   "execution_count": 4,
   "metadata": {},
   "outputs": [
    {
     "data": {
      "text/plain": [
       "6"
      ]
     },
     "execution_count": 4,
     "metadata": {},
     "output_type": "execute_result"
    }
   ],
   "source": [
    "s.find(\"W\")"
   ]
  },
  {
   "cell_type": "code",
   "execution_count": 5,
   "metadata": {},
   "outputs": [
    {
     "data": {
      "text/plain": [
       "'Wello World'"
      ]
     },
     "execution_count": 5,
     "metadata": {},
     "output_type": "execute_result"
    }
   ],
   "source": [
    "s.replace(\"H\", \"W\")"
   ]
  },
  {
   "cell_type": "code",
   "execution_count": 11,
   "metadata": {
    "collapsed": true
   },
   "outputs": [],
   "source": [
    "## what do you think s is here - Wello World or Hello World? Remember string in Python is immutable type\n",
    "print(s)"
   ]
  },
  {
   "cell_type": "code",
   "execution_count": 9,
   "metadata": {
    "collapsed": true
   },
   "outputs": [],
   "source": [
    "# help in jupyter notebook\n",
    "?str.replace()"
   ]
  },
  {
   "cell_type": "markdown",
   "metadata": {},
   "source": [
    "### Primitive Types\n",
    "- Integer: -5, 19, 1000\n",
    "- Float: -5.0, 19.25, 0.0, 1000.0\n",
    "- Boolean: True, False\n",
    "- Long Integer\n",
    "- Immutable string: \"abc\", \"Hello, World\"\n",
    "\n",
    "### Arithmetic Operations\n",
    "- x+y, x-y, x*y, x/y, x%y, -x, +x\n",
    "- abs(x), int(x), long(x), float(x), pow(x,y), x**y\n",
    "\n",
    "### Comparision Operations\n",
    "- <, <=, >, =>, ==, !=, is, is not\n",
    "\n",
    "### Bitwise Operations\n",
    "- x|y, x^y, x&y, x<<n, x >> n, ~x"
   ]
  },
  {
   "cell_type": "code",
   "execution_count": 14,
   "metadata": {},
   "outputs": [
    {
     "data": {
      "text/plain": [
       "'0b11'"
      ]
     },
     "execution_count": 14,
     "metadata": {},
     "output_type": "execute_result"
    }
   ],
   "source": [
    "# bitwise or of x and y\n",
    "x = 0b01\n",
    "y = 0b10\n",
    "bin(x|y)"
   ]
  },
  {
   "cell_type": "code",
   "execution_count": 15,
   "metadata": {},
   "outputs": [
    {
     "data": {
      "text/plain": [
       "'-0b10'"
      ]
     },
     "execution_count": 15,
     "metadata": {},
     "output_type": "execute_result"
    }
   ],
   "source": [
    "# invert bit\n",
    "bin(~x)"
   ]
  },
  {
   "cell_type": "markdown",
   "metadata": {},
   "source": [
    "### Collection Types\n",
    "- List, Array, Sequence, Vector, Set\n",
    "- Stack, Queue, Heap, Map, Hash Table\n",
    "- Dictionary, Tree, Graph, Multimap, Multiset\n",
    "- Priority Queue, String"
   ]
  },
  {
   "cell_type": "code",
   "execution_count": 21,
   "metadata": {},
   "outputs": [
    {
     "name": "stdout",
     "output_type": "stream",
     "text": [
      "a, b, c, e\n"
     ]
    }
   ],
   "source": [
    "# string in python is a collection of characters\n",
    "s = \"abcdef\"\n",
    "print(\"{0}, {1}, {2}, {3}\".format(s[0], s[1], s[2], s[4]))"
   ]
  },
  {
   "cell_type": "code",
   "execution_count": 24,
   "metadata": {
    "collapsed": true
   },
   "outputs": [],
   "source": [
    "myset = set()\n",
    "myset.add(10)\n",
    "myset.add(20)\n",
    "myset.add(30)\n",
    "myset.add(10)"
   ]
  },
  {
   "cell_type": "code",
   "execution_count": 25,
   "metadata": {},
   "outputs": [
    {
     "name": "stdout",
     "output_type": "stream",
     "text": [
      "{10, 20, 30}\n"
     ]
    }
   ],
   "source": [
    "print(myset)"
   ]
  },
  {
   "cell_type": "code",
   "execution_count": 30,
   "metadata": {
    "collapsed": true
   },
   "outputs": [],
   "source": [
    "# using tab to find all the methods set.<tab>"
   ]
  },
  {
   "cell_type": "code",
   "execution_count": 41,
   "metadata": {
    "collapsed": true
   },
   "outputs": [],
   "source": [
    "# define an emtpy array / list of empty objects\n",
    "a = [None] * 10"
   ]
  },
  {
   "cell_type": "code",
   "execution_count": 45,
   "metadata": {
    "collapsed": true
   },
   "outputs": [],
   "source": [
    "a[0] = \"abc\"\n",
    "a[1] = 1\n",
    "a[3] = 15"
   ]
  },
  {
   "cell_type": "code",
   "execution_count": 46,
   "metadata": {},
   "outputs": [
    {
     "data": {
      "text/plain": [
       "['abc', 1, None, 15, None, None, None, None, None, None]"
      ]
     },
     "execution_count": 46,
     "metadata": {},
     "output_type": "execute_result"
    }
   ],
   "source": [
    "a"
   ]
  },
  {
   "cell_type": "code",
   "execution_count": 48,
   "metadata": {
    "collapsed": true
   },
   "outputs": [],
   "source": [
    "# how to define a list of 10 zero array/list\n",
    "a = [0] * 10"
   ]
  },
  {
   "cell_type": "code",
   "execution_count": 49,
   "metadata": {},
   "outputs": [
    {
     "data": {
      "text/plain": [
       "[0, 0, 0, 0, 0, 0, 0, 0, 0, 0]"
      ]
     },
     "execution_count": 49,
     "metadata": {},
     "output_type": "execute_result"
    }
   ],
   "source": [
    "a"
   ]
  },
  {
   "cell_type": "code",
   "execution_count": 50,
   "metadata": {
    "collapsed": true
   },
   "outputs": [],
   "source": [
    "# tuple - immutalbe array\n",
    "b = (1, 3, 5, 10)"
   ]
  },
  {
   "cell_type": "code",
   "execution_count": 51,
   "metadata": {},
   "outputs": [
    {
     "ename": "TypeError",
     "evalue": "'tuple' object does not support item assignment",
     "output_type": "error",
     "traceback": [
      "\u001b[0;31m---------------------------------------------------------------------------\u001b[0m",
      "\u001b[0;31mTypeError\u001b[0m                                 Traceback (most recent call last)",
      "\u001b[0;32m<ipython-input-51-20b4c369ab0f>\u001b[0m in \u001b[0;36m<module>\u001b[0;34m()\u001b[0m\n\u001b[0;32m----> 1\u001b[0;31m \u001b[0mb\u001b[0m\u001b[0;34m[\u001b[0m\u001b[0;36m0\u001b[0m\u001b[0;34m]\u001b[0m \u001b[0;34m=\u001b[0m \u001b[0;36m2\u001b[0m\u001b[0;34m\u001b[0m\u001b[0m\n\u001b[0m",
      "\u001b[0;31mTypeError\u001b[0m: 'tuple' object does not support item assignment"
     ]
    }
   ],
   "source": [
    "b[0] = 2"
   ]
  },
  {
   "cell_type": "code",
   "execution_count": 53,
   "metadata": {},
   "outputs": [
    {
     "data": {
      "text/plain": [
       "10"
      ]
     },
     "execution_count": 53,
     "metadata": {},
     "output_type": "execute_result"
    }
   ],
   "source": [
    "b[3]"
   ]
  },
  {
   "cell_type": "code",
   "execution_count": 54,
   "metadata": {
    "collapsed": true
   },
   "outputs": [],
   "source": [
    "# dictionary\n",
    "dd = {}"
   ]
  },
  {
   "cell_type": "code",
   "execution_count": 58,
   "metadata": {
    "collapsed": true
   },
   "outputs": [],
   "source": [
    "dd['myra'] = '8th grader'\n",
    "dd[\"mel\"] = \"12th grader\""
   ]
  },
  {
   "cell_type": "code",
   "execution_count": 59,
   "metadata": {},
   "outputs": [
    {
     "data": {
      "text/plain": [
       "{'mel': '12th grader', 'myra': '8th grader'}"
      ]
     },
     "execution_count": 59,
     "metadata": {},
     "output_type": "execute_result"
    }
   ],
   "source": [
    "dd"
   ]
  },
  {
   "cell_type": "code",
   "execution_count": 57,
   "metadata": {},
   "outputs": [
    {
     "name": "stdout",
     "output_type": "stream",
     "text": [
      "0\n",
      "0\n",
      "0\n",
      "0\n",
      "0\n",
      "0\n",
      "0\n",
      "0\n",
      "0\n",
      "0\n"
     ]
    }
   ],
   "source": [
    "# how to print out a list of item one by one\n",
    "# using the enumerable type - note: all collection objects in python are enumerable type\n",
    "for i in a:\n",
    "    print (i)"
   ]
  },
  {
   "cell_type": "code",
   "execution_count": 62,
   "metadata": {},
   "outputs": [
    {
     "name": "stdout",
     "output_type": "stream",
     "text": [
      "myra\n",
      "mel\n"
     ]
    }
   ],
   "source": [
    "for d in dd:\n",
    "    print(d)"
   ]
  },
  {
   "cell_type": "markdown",
   "metadata": {},
   "source": [
    "### Functions\n",
    "Problem - give a positive integer number, find if it is a prime numbe\n"
   ]
  },
  {
   "cell_type": "code",
   "execution_count": 63,
   "metadata": {
    "collapsed": true
   },
   "outputs": [],
   "source": [
    "def is_prime(n):\n",
    "    if n <= 1:\n",
    "        return False\n",
    "    i = 2\n",
    "    while i < n:\n",
    "        if n % i == 0:\n",
    "            return False\n",
    "        i += 1\n",
    "    return True"
   ]
  },
  {
   "cell_type": "code",
   "execution_count": 64,
   "metadata": {},
   "outputs": [
    {
     "data": {
      "text/plain": [
       "True"
      ]
     },
     "execution_count": 64,
     "metadata": {},
     "output_type": "execute_result"
    }
   ],
   "source": [
    "is_prime(2)"
   ]
  },
  {
   "cell_type": "markdown",
   "metadata": {
    "collapsed": true
   },
   "source": [
    "#### Write a function to find all given letter in a string\n",
    "find_letters(\"Hello World\", \"l\")\n",
    "2, 3, 9"
   ]
  },
  {
   "cell_type": "markdown",
   "metadata": {},
   "source": [
    "## Python 3 Basic Lessons"
   ]
  },
  {
   "cell_type": "markdown",
   "metadata": {},
   "source": [
    "### Base Type"
   ]
  },
  {
   "cell_type": "code",
   "execution_count": 2,
   "metadata": {},
   "outputs": [],
   "source": [
    "val1 = 783    # integer\n",
    "val2 = -192   # integer\n",
    "val3 = 0b0100 # binary representation of integer"
   ]
  },
  {
   "cell_type": "code",
   "execution_count": 3,
   "metadata": {},
   "outputs": [
    {
     "name": "stdout",
     "output_type": "stream",
     "text": [
      "783, -192 4 and their types <class 'int'>, <class 'int'>, <class 'int'>\n"
     ]
    }
   ],
   "source": [
    "print(\"{0}, {1} {2} and their types {3}, {4}, {5}\".format(val1, val2, val3, type(val1), type(val2), type(val3)))"
   ]
  },
  {
   "cell_type": "markdown",
   "metadata": {},
   "source": [
    "### Identifiers"
   ]
  },
  {
   "cell_type": "markdown",
   "metadata": {},
   "source": [
    "**Identifiers** are used for variables, functions, module, classes, ....\n",
    "Identifiers should start with letters (a..zA..Z) by more letters or digits\n",
    "- :) a toto x7 y_ma BigOne\n",
    "- :( 8y 745 for whilem"
   ]
  },
  {
   "cell_type": "markdown",
   "metadata": {},
   "source": [
    "### Variable Assignment\n",
    "Assignment is **binding** name with a value\n",
    "1. Evaluaate of right side of expression value (mostly variable)\n",
    "2. Assignment in order with left side names"
   ]
  },
  {
   "cell_type": "code",
   "execution_count": 5,
   "metadata": {},
   "outputs": [
    {
     "ename": "NameError",
     "evalue": "name 'y' is not defined",
     "output_type": "error",
     "traceback": [
      "\u001b[1;31m---------------------------------------------------------------------------\u001b[0m",
      "\u001b[1;31mNameError\u001b[0m                                 Traceback (most recent call last)",
      "\u001b[1;32m<ipython-input-5-cd904d08c9a1>\u001b[0m in \u001b[0;36m<module>\u001b[1;34m()\u001b[0m\n\u001b[1;32m----> 1\u001b[1;33m \u001b[1;36m8\u001b[0m \u001b[1;33m*\u001b[0m \u001b[0my\u001b[0m\u001b[1;33m\u001b[0m\u001b[0m\n\u001b[0m",
      "\u001b[1;31mNameError\u001b[0m: name 'y' is not defined"
     ]
    }
   ],
   "source": [
    "8y = 1"
   ]
  },
  {
   "cell_type": "code",
   "execution_count": 7,
   "metadata": {},
   "outputs": [],
   "source": [
    "import math\n",
    "y = 2\n",
    "x = 1.2 + math.sin(y)\n",
    "c = 0\n",
    "a = b = c\n",
    "yy, zz, rr = 9.2, -7.6, 0  # assign left with right correspondingly\n",
    "b = 2\n",
    "a, b= b, a   # swap a and b\n",
    "xxx = None\n",
    "x +=3   # x = x + 3"
   ]
  },
  {
   "cell_type": "markdown",
   "metadata": {},
   "source": [
    "### Container Types"
   ]
  },
  {
   "cell_type": "markdown",
   "metadata": {},
   "source": [
    "- **Order sequences**, fast index access, repeatble values\n",
    "    - list, tuple\n",
    "    - str, byte\n",
    "- **Key containers**, no a prior order fast key access, each key is unique\n",
    "    - dict, set"
   ]
  },
  {
   "cell_type": "code",
   "execution_count": 10,
   "metadata": {},
   "outputs": [],
   "source": [
    "# list\n",
    "nums = [1, 5, 9, 9.9]\n",
    "alphanum = [10, \"abc\", 15, 30, \"xyz\", 30.001]\n",
    "names = [\"steve\"]\n",
    "\n",
    "# tubple\n",
    "t_nums = (1, 5, 9, 9.9)\n",
    "t_alphanum = (10, \"abc\", 15, 30, \"xyz\", 30.001)\n",
    "t_nums = (\"steve\",)   # a single one, you need to use , after"
   ]
  },
  {
   "cell_type": "code",
   "execution_count": 22,
   "metadata": {},
   "outputs": [],
   "source": [
    "# dcit {\"key\" : \"value\"}\n",
    "# use dict function to create a dictionary\n",
    "mydict = dict(id=3, zip=10019, city=\"New York\")"
   ]
  },
  {
   "cell_type": "code",
   "execution_count": 19,
   "metadata": {},
   "outputs": [
    {
     "data": {
      "text/plain": [
       "{'id': 3, 'zip': 10019, 'city': 'New York'}"
      ]
     },
     "execution_count": 19,
     "metadata": {},
     "output_type": "execute_result"
    }
   ],
   "source": [
    "mydict"
   ]
  },
  {
   "cell_type": "code",
   "execution_count": 23,
   "metadata": {},
   "outputs": [],
   "source": [
    "# another way to create a dictionary\n",
    "mydict2 = {\"id\" : 3, \"zip\" : 10019, \"city\": \"New York\"}"
   ]
  },
  {
   "cell_type": "code",
   "execution_count": 24,
   "metadata": {},
   "outputs": [],
   "source": [
    "# create a list of dictionaries\n",
    "mydict_list = [mydict, mydict2]"
   ]
  },
  {
   "cell_type": "code",
   "execution_count": 28,
   "metadata": {},
   "outputs": [],
   "source": [
    "# use set fucntion to create a set\n",
    "a1 = set([1, 2, 5, 15, 30])\n",
    "b1 = set([1, 2, 10])\n",
    "interset = a1.intersection(b1)"
   ]
  },
  {
   "cell_type": "code",
   "execution_count": 29,
   "metadata": {},
   "outputs": [
    {
     "name": "stdout",
     "output_type": "stream",
     "text": [
      "{1, 2}\n"
     ]
    }
   ],
   "source": [
    "print(interset)"
   ]
  },
  {
   "cell_type": "code",
   "execution_count": 30,
   "metadata": {},
   "outputs": [
    {
     "name": "stdout",
     "output_type": "stream",
     "text": [
      "{1, 3, 5}\n",
      "{1, 2, 3, 4, 5, 7, 9, 11}\n"
     ]
    }
   ],
   "source": [
    "# another way to create a set\n",
    "aa1 = {1, 2, 3, 4, 5}\n",
    "bb1 = {1, 3, 5, 7, 9, 11}\n",
    "# get the intersection\n",
    "intersection = aa1.intersection(bb1)\n",
    "# union\n",
    "union = aa1.union(bb1)\n",
    "print(intersection)\n",
    "print(union)"
   ]
  },
  {
   "cell_type": "code",
   "execution_count": 31,
   "metadata": {},
   "outputs": [
    {
     "name": "stdout",
     "output_type": "stream",
     "text": [
      "=> to\n",
      "=> be\n",
      "=> or\n",
      "=> not\n",
      "=> to\n",
      "=> be\n"
     ]
    }
   ],
   "source": [
    "# split a sentence into a list of words\n",
    "sentense = \"to be or not to be\"\n",
    "words = sentense.split(\" \")\n",
    "for word in words:\n",
    "    print(\"=> {}\".format(word))"
   ]
  },
  {
   "cell_type": "code",
   "execution_count": 32,
   "metadata": {},
   "outputs": [
    {
     "name": "stdout",
     "output_type": "stream",
     "text": [
      "['1', ' 15', ' 20', ' 30']\n"
     ]
    }
   ],
   "source": [
    "items = \"1, 15, 20, 30\"\n",
    "num_list = items.split(\",\")\n",
    "print(num_list)"
   ]
  },
  {
   "cell_type": "markdown",
   "metadata": {},
   "source": [
    "### Sequence Containers Indexing\n",
    "for lists, tubple, string, bytes ...\n",
    "- Access a single item via alist[index]\n",
    "- Access to sub-sequence via alist[start: end : step]"
   ]
  },
  {
   "cell_type": "code",
   "execution_count": 33,
   "metadata": {},
   "outputs": [
    {
     "name": "stdout",
     "output_type": "stream",
     "text": [
      "[10, 20, 30, 40]\n"
     ]
    }
   ],
   "source": [
    "# 5 items\n",
    "mylist = [10, 20, 30, 40, 50]\n",
    "print(mylist[:-1])"
   ]
  },
  {
   "cell_type": "code",
   "execution_count": 34,
   "metadata": {},
   "outputs": [
    {
     "name": "stdout",
     "output_type": "stream",
     "text": [
      "[50, 40, 30, 20, 10]\n"
     ]
    }
   ],
   "source": [
    "print(mylist[::-1])"
   ]
  },
  {
   "cell_type": "code",
   "execution_count": 35,
   "metadata": {},
   "outputs": [
    {
     "name": "stdout",
     "output_type": "stream",
     "text": [
      "[20, 30]\n"
     ]
    }
   ],
   "source": [
    "print(mylist[1:3])"
   ]
  },
  {
   "cell_type": "code",
   "execution_count": 36,
   "metadata": {},
   "outputs": [
    {
     "name": "stdout",
     "output_type": "stream",
     "text": [
      "[30, 40]\n"
     ]
    }
   ],
   "source": [
    "print(mylist[-3:-1])"
   ]
  },
  {
   "cell_type": "code",
   "execution_count": 37,
   "metadata": {},
   "outputs": [
    {
     "name": "stdout",
     "output_type": "stream",
     "text": [
      "[10, 20, 40, 50]\n"
     ]
    }
   ],
   "source": [
    "# remove item(s)\n",
    "del mylist[2:3]\n",
    "print (mylist)"
   ]
  },
  {
   "cell_type": "markdown",
   "metadata": {},
   "source": [
    "### Boolean Logic\n",
    "- Comparisons: < > <= >=  ==\n",
    "- `a and b`  logical and\n",
    "- `a or b`  logical or\n",
    "- ` not a` logical not"
   ]
  },
  {
   "cell_type": "code",
   "execution_count": 38,
   "metadata": {},
   "outputs": [
    {
     "name": "stdout",
     "output_type": "stream",
     "text": [
      "False\n"
     ]
    }
   ],
   "source": [
    "a = True\n",
    "b = False\n",
    "print (a and b)"
   ]
  },
  {
   "cell_type": "code",
   "execution_count": 39,
   "metadata": {},
   "outputs": [
    {
     "name": "stdout",
     "output_type": "stream",
     "text": [
      "True\n"
     ]
    }
   ],
   "source": [
    "print (a or b)"
   ]
  },
  {
   "cell_type": "code",
   "execution_count": 42,
   "metadata": {},
   "outputs": [
    {
     "data": {
      "text/plain": [
       "0.7071067811865476"
      ]
     },
     "execution_count": 42,
     "metadata": {},
     "output_type": "execute_result"
    }
   ],
   "source": [
    "# math functions\n",
    "import math\n",
    "math.sin(math.pi/4)"
   ]
  },
  {
   "cell_type": "code",
   "execution_count": 43,
   "metadata": {},
   "outputs": [
    {
     "data": {
      "text/plain": [
       "9.0"
      ]
     },
     "execution_count": 43,
     "metadata": {},
     "output_type": "execute_result"
    }
   ],
   "source": [
    "math.sqrt(81)"
   ]
  },
  {
   "cell_type": "code",
   "execution_count": 53,
   "metadata": {},
   "outputs": [
    {
     "name": "stdout",
     "output_type": "stream",
     "text": [
      "-0.4999999999999998 2.0 13 3.52\n"
     ]
    }
   ],
   "source": [
    "print(\"{0:} {1} {2} {3:.2f}\".format(math.cos(2*math.pi/3), math.log(math.e**2), math.ceil(12.5), 3.5153))"
   ]
  },
  {
   "cell_type": "markdown",
   "metadata": {},
   "source": [
    "### Conditional Loop Statement\n",
    "Statements block executed as long as condition is true\n",
    "\n",
    "**while** *logic condition:*\n",
    "\n",
    "    statement blocks\n",
    "\n",
    "other statements outside of the while blocks"
   ]
  },
  {
   "cell_type": "code",
   "execution_count": 56,
   "metadata": {},
   "outputs": [
    {
     "name": "stdout",
     "output_type": "stream",
     "text": [
      "Sum is 338350\n"
     ]
    }
   ],
   "source": [
    "# intialization\n",
    "s = 0\n",
    "i = 1\n",
    "# sum of all squres of i from i = 1 to 100\n",
    "while i <= 100:\n",
    "    s = s + i**2\n",
    "    i = i + 1\n",
    "\n",
    "print(\"Sum is {}\".format(s))"
   ]
  },
  {
   "cell_type": "markdown",
   "metadata": {},
   "source": [
    "### Iterative Loop Statement\n",
    "Statements block executed for each item of a container or iterator"
   ]
  },
  {
   "cell_type": "code",
   "execution_count": 59,
   "metadata": {},
   "outputs": [
    {
     "name": "stdout",
     "output_type": "stream",
     "text": [
      "found of e : 4\n"
     ]
    }
   ],
   "source": [
    "s = \"a brown fox jumps over the lazy dog\"\n",
    "cnt = 0\n",
    "for c in s:\n",
    "    if c == \"o\":\n",
    "        cnt = cnt + 1\n",
    "print(\"found of e : {}\".format(cnt))"
   ]
  },
  {
   "cell_type": "code",
   "execution_count": 60,
   "metadata": {},
   "outputs": [
    {
     "name": "stdout",
     "output_type": "stream",
     "text": [
      "[11, 15, 9, 12, 15, 4, 15]\n",
      "[18, 23, 17]\n"
     ]
    }
   ],
   "source": [
    "# Algorithm - limit the values greater than 15 to 15 & memorizing the lost values\n",
    "valist = [11, 18, 9, 12, 23, 4, 17]\n",
    "lost = []  # create a list to store the lost values; init to empty first\n",
    "for idx in range(len(valist)):\n",
    "    val = valist[idx]\n",
    "    if val > 15:\n",
    "        lost.append(val)\n",
    "        valist[idx] = 15\n",
    "print(valist)\n",
    "print(lost)\n",
    "    "
   ]
  },
  {
   "cell_type": "markdown",
   "metadata": {},
   "source": [
    "### Operations on List, Dictionaries & Sets\n",
    "List \n",
    "    - l.append(val), l.extend(seq), l.insert(idx, val), \n",
    "    - l.remove(val), l.pop(), l.sort(), l.reverse()\n",
    "Dict\n",
    "    - d[key]=value, d[key], d.keys(), d.values(), d.items(), \n",
    "    - d.pop(key), d.popitem()\n",
    "Set\n",
    "    - s.update(s2), s.copy(), s.discard(key), s.clear(), s.pop()"
   ]
  },
  {
   "cell_type": "markdown",
   "metadata": {},
   "source": [
    "### Files\n",
    "Storing data on disk and read it back\n",
    "\n",
    "**f = open (\"file.txt\", \"w\", encoding=\"utf8\")**\n",
    "- f - file variable\n",
    "- file.txt - name of the file\n",
    "- w - write, r - read, a - append\n",
    "- utf8 - encoding for Latin1\n",
    "\n",
    "**writing**\n",
    "- f.write(\"coucou\")\n",
    "- f.wrielines(lists)\n",
    "\n",
    "**reading**\n",
    "- f.read()\n",
    "- f.readlines()\n",
    "- f.readline()"
   ]
  },
  {
   "cell_type": "code",
   "execution_count": null,
   "metadata": {},
   "outputs": [],
   "source": []
  }
 ],
 "metadata": {
  "kernelspec": {
   "display_name": "Python 3",
   "language": "python",
   "name": "python3"
  },
  "language_info": {
   "codemirror_mode": {
    "name": "ipython",
    "version": 3
   },
   "file_extension": ".py",
   "mimetype": "text/x-python",
   "name": "python",
   "nbconvert_exporter": "python",
   "pygments_lexer": "ipython3",
   "version": "3.6.5"
  },
  "toc": {
   "base_numbering": 1,
   "nav_menu": {},
   "number_sections": true,
   "sideBar": true,
   "skip_h1_title": false,
   "title_cell": "Table of Contents",
   "title_sidebar": "Contents",
   "toc_cell": false,
   "toc_position": {},
   "toc_section_display": true,
   "toc_window_display": false
  }
 },
 "nbformat": 4,
 "nbformat_minor": 2
}
